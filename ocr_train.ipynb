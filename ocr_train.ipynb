{
 "cells": [
  {
   "cell_type": "code",
   "execution_count": 1,
   "metadata": {
    "colab": {
     "base_uri": "https://localhost:8080/",
     "height": 34
    },
    "colab_type": "code",
    "id": "tOc_e_zSdqlG",
    "outputId": "e1dfc22b-8648-40ce-be74-1eb1b0a5e12d"
   },
   "outputs": [
    {
     "name": "stderr",
     "output_type": "stream",
     "text": [
      "Using TensorFlow backend.\n"
     ]
    }
   ],
   "source": [
    "from keras import backend as K\n",
    "from keras.layers.convolutional import Conv2D, MaxPooling2D\n",
    "from keras.layers import Input, Dense, Activation\n",
    "from keras.layers import Reshape, Lambda\n",
    "from keras.layers.merge import add, concatenate\n",
    "from keras.models import Model\n",
    "from keras.layers.recurrent import GRU\n",
    "from keras.models import load_model\n",
    "from keras.preprocessing.image import img_to_array\n",
    "from keras.callbacks import ModelCheckpoint\n",
    "from keras.optimizers import SGD\n",
    "import numpy as np\n",
    "from imutils import paths\n",
    "import cv2\n",
    "import random\n",
    "import os"
   ]
  },
  {
   "cell_type": "code",
   "execution_count": 2,
   "metadata": {
    "colab": {},
    "colab_type": "code",
    "id": "gTLJnWECdvRV"
   },
   "outputs": [],
   "source": [
    "def ctc_lambda_func(args):\n",
    "    y_pred, labels, input_length, label_length = args\n",
    "    y_pred = y_pred[:, :, :]\n",
    "    return K.ctc_batch_cost(labels, y_pred, input_length, label_length)"
   ]
  },
  {
   "cell_type": "code",
   "execution_count": 3,
   "metadata": {},
   "outputs": [],
   "source": [
    "def get_model(training,img_w,img_h,depth,alphabetLength,absolute_max_string_len):\n",
    "    conv_filters = 16\n",
    "    kernel_size = (3, 3)\n",
    "    pool_size = 2\n",
    "    time_dense_size = 32\n",
    "    rnn_size = 512\n",
    "\n",
    "    act='relu'\n",
    "    if K.image_data_format()=='channels_first':\n",
    "      input_shape=(depth,img_w,img_h)\n",
    "    else:\n",
    "      input_shape=(img_w,img_h,depth)\n",
    "\n",
    "    input_data=Input(name='the_input',shape=input_shape,dtype='float32')\n",
    "    inner =Conv2D(conv_filters,kernel_size,padding='same',activation=act,\n",
    "              kernel_initializer='he_normal',name='conv1')(input_data)\n",
    "\n",
    "    inner =MaxPooling2D(pool_size=(pool_size,pool_size),name='max1')(inner)\n",
    "    inner =Conv2D(conv_filters,kernel_size,padding='same',activation=act,\n",
    "              kernel_initializer='he_normal',name='conv2')(inner)\n",
    "\n",
    "    inner =MaxPooling2D(pool_size=(pool_size,pool_size),name='max2')(inner)\n",
    "    conv_to_rnn_dims = (img_w // (pool_size**2),(img_h // (pool_size**2 )) * conv_filters)\n",
    "    inner = Reshape(target_shape=conv_to_rnn_dims, name='reshape')(inner)\n",
    "    inner = Dense(time_dense_size, activation=act, name='dense1')(inner)       \n",
    "\n",
    "    gru_1 = GRU(rnn_size, return_sequences=True,\n",
    "          kernel_initializer='he_normal', name='gru1')(inner)\n",
    "    gru_1b = GRU(rnn_size, return_sequences=True,\n",
    "           go_backwards=True, kernel_initializer='he_normal',\n",
    "           name='gru1_b')(inner)\n",
    "    gru1_merged = add([gru_1, gru_1b])\n",
    "\n",
    "    gru_2 = GRU(rnn_size, return_sequences=True,\n",
    "          kernel_initializer='he_normal', name='gru2')(gru1_merged)\n",
    "    gru_2b = GRU(rnn_size, return_sequences=True, go_backwards=True,\n",
    "           kernel_initializer='he_normal', name='gru2_b')(gru1_merged)\n",
    "\n",
    "    # transforms RNN output to character activations:\n",
    "    inner = Dense(alphabetLength, kernel_initializer='he_normal',name='dense2')(concatenate([gru_2, gru_2b]))\n",
    "    y_pred = Activation('softmax', name='softmax')(inner)\n",
    "\n",
    "    labels = Input(name='the_labels', shape=[absolute_max_string_len], dtype='float32')\n",
    "    input_length = Input(name='input_length', shape=[1], dtype='int64')\n",
    "    label_length = Input(name='label_length', shape=[1], dtype='int64')\n",
    "\n",
    "    loss_out = Lambda(ctc_lambda_func, output_shape=(1,), name='ctc')([y_pred, labels, input_length, label_length])\n",
    "    \n",
    "    if training:\n",
    "        return Model(inputs=[input_data, labels, input_length, label_length], outputs=loss_out)\n",
    "    else:\n",
    "        return Model(inputs=[input_data], outputs=y_pred)"
   ]
  },
  {
   "cell_type": "code",
   "execution_count": 4,
   "metadata": {
    "colab": {},
    "colab_type": "code",
    "id": "DrM0Az0B93xR"
   },
   "outputs": [],
   "source": [
    "# character classes \n",
    "alphabet = u'abcdefghijklmnopqrstuvwxyzABCDEFGHIJKLMNOPQRSTUVWXYZ0123456789 '"
   ]
  },
  {
   "cell_type": "code",
   "execution_count": 5,
   "metadata": {},
   "outputs": [],
   "source": [
    "def text_to_labels(text,alphabet):\n",
    "    ret = []\n",
    "    for char in text:\n",
    "        ret.append(alphabet.find(char))\n",
    "    return ret"
   ]
  },
  {
   "cell_type": "code",
   "execution_count": 6,
   "metadata": {
    "colab": {},
    "colab_type": "code",
    "id": "Koi939kW_Ebo"
   },
   "outputs": [],
   "source": [
    "def loadpic(path,batchSize,absolute_max_string_len,downsample_factor):\n",
    "    #print(path)\n",
    "    imgPaths=list(paths.list_images(path))\n",
    "    random.seed(20)\n",
    "    #print(len(imgPaths))\n",
    "    while 1:\n",
    "        x_batch=[]\n",
    "        y_batch=np.ones([batchSize, absolute_max_string_len]) * -1\n",
    "        input_length = np.zeros([batchSize, 1])\n",
    "        label_length=np.zeros([batchSize, 1])\n",
    "        labels_batch=[]\n",
    "        for i in range(batchSize):\n",
    "                imgpath=imgPaths[random.randint(0,len(imgPaths)-1)]\n",
    "                img=cv2.imread(imgpath,1)\n",
    "                img=cv2.resize(img,(128,64))\n",
    "                img=img_to_array(img)\n",
    "                \n",
    "                x_batch.append(img)\n",
    "\n",
    "                input_length[i]=np.array(img).shape[1]//downsample_factor\n",
    "                #print(imgpath)\n",
    "                imgname=imgpath[imgpath.rindex('/')+1:imgpath.rindex('.')]\n",
    "                #print(imgname)\n",
    "                labels_batch.append(imgname)\n",
    "\n",
    "                label_length[i]=len(imgname)\n",
    "                #print(label_length[i])\n",
    "                y_batch[i,0:len(imgname)]=text_to_labels(imgname,alphabet)\n",
    "        x_batch = np.array(x_batch, dtype=\"float\") / 255.0\n",
    "        x_batch= x_batch.swapaxes(1,2)\n",
    "\n",
    "        inputs = {'the_input': x_batch,\n",
    "                  'the_labels': y_batch,\n",
    "                  'input_length': input_length,\n",
    "                  'label_length': label_length,\n",
    "                  'source_str': labels_batch  \n",
    "                  }\n",
    "        outputs = {'ctc': np.zeros([batchSize])}  \n",
    "        yield (inputs,outputs)"
   ]
  },
  {
   "cell_type": "code",
   "execution_count": 7,
   "metadata": {
    "colab": {
     "base_uri": "https://localhost:8080/",
     "height": 2614
    },
    "colab_type": "code",
    "id": "g_hWjvfd_Qxc",
    "outputId": "728e09a0-c4d5-4a5e-e6b6-63078a7adc01"
   },
   "outputs": [],
   "source": [
    "def train(dataPath,batchSize,epochs,absolute_max_string_len,downsample_factor,valData):\n",
    "    #print(dataPath)\n",
    "    training = True\n",
    "    alphabetLength = 64 \n",
    "    model=get_model(training,128,64,3,alphabetLength,absolute_max_string_len)\n",
    "    \n",
    "    sgd = SGD(lr=0.02, decay=1e-6, momentum=0.9, nesterov=True, clipnorm=5)\n",
    "    model.compile(loss={'ctc': lambda y_true, y_pred: y_pred}, optimizer=sgd)\n",
    "    model.summary()\n",
    "    filepath=\"ocr_best_weights.hdf5\"\n",
    "    checkpoint = ModelCheckpoint(filepath, monitor='val_loss', verbose=1, save_best_only=True, mode='min')\n",
    "    if valData == None:\n",
    "        model.fit_generator(generator=loadpic(dataPath,batchSize,absolute_max_string_len,downsample_factor),\n",
    "                            steps_per_epoch=1000, epochs=epochs,callbacks=[checkpoint])\n",
    "    else:\n",
    "        model.fit_generator(generator=loadpic(dataPath,batchSize,absolute_max_string_len,downsample_factor),\n",
    "                            steps_per_epoch=1000, epochs=epochs, \n",
    "                            validation_data=loadpic(valData,batchSize,absolute_max_string_len,downsample_factor), \n",
    "                            validation_steps=5,callbacks=[checkpoint])\n",
    "    #model.save_weights('weights.h5') #save weights \n",
    "    #model.save('m.h5')  #save model\n",
    "    return model"
   ]
  },
  {
   "cell_type": "code",
   "execution_count": 11,
   "metadata": {},
   "outputs": [
    {
     "name": "stdout",
     "output_type": "stream",
     "text": [
      "__________________________________________________________________________________________________\n",
      "Layer (type)                    Output Shape         Param #     Connected to                     \n",
      "==================================================================================================\n",
      "the_input (InputLayer)          (None, 128, 64, 3)   0                                            \n",
      "__________________________________________________________________________________________________\n",
      "conv1 (Conv2D)                  (None, 128, 64, 16)  448         the_input[0][0]                  \n",
      "__________________________________________________________________________________________________\n",
      "max1 (MaxPooling2D)             (None, 64, 32, 16)   0           conv1[0][0]                      \n",
      "__________________________________________________________________________________________________\n",
      "conv2 (Conv2D)                  (None, 64, 32, 16)   2320        max1[0][0]                       \n",
      "__________________________________________________________________________________________________\n",
      "max2 (MaxPooling2D)             (None, 32, 16, 16)   0           conv2[0][0]                      \n",
      "__________________________________________________________________________________________________\n",
      "reshape (Reshape)               (None, 32, 256)      0           max2[0][0]                       \n",
      "__________________________________________________________________________________________________\n",
      "dense1 (Dense)                  (None, 32, 32)       8224        reshape[0][0]                    \n",
      "__________________________________________________________________________________________________\n",
      "gru1 (GRU)                      (None, 32, 512)      837120      dense1[0][0]                     \n",
      "__________________________________________________________________________________________________\n",
      "gru1_b (GRU)                    (None, 32, 512)      837120      dense1[0][0]                     \n",
      "__________________________________________________________________________________________________\n",
      "add_4 (Add)                     (None, 32, 512)      0           gru1[0][0]                       \n",
      "                                                                 gru1_b[0][0]                     \n",
      "__________________________________________________________________________________________________\n",
      "gru2 (GRU)                      (None, 32, 512)      1574400     add_4[0][0]                      \n",
      "__________________________________________________________________________________________________\n",
      "gru2_b (GRU)                    (None, 32, 512)      1574400     add_4[0][0]                      \n",
      "__________________________________________________________________________________________________\n",
      "concatenate_4 (Concatenate)     (None, 32, 1024)     0           gru2[0][0]                       \n",
      "                                                                 gru2_b[0][0]                     \n",
      "__________________________________________________________________________________________________\n",
      "dense2 (Dense)                  (None, 32, 64)       65600       concatenate_4[0][0]              \n",
      "__________________________________________________________________________________________________\n",
      "softmax (Activation)            (None, 32, 64)       0           dense2[0][0]                     \n",
      "__________________________________________________________________________________________________\n",
      "the_labels (InputLayer)         (None, 7)            0                                            \n",
      "__________________________________________________________________________________________________\n",
      "input_length (InputLayer)       (None, 1)            0                                            \n",
      "__________________________________________________________________________________________________\n",
      "label_length (InputLayer)       (None, 1)            0                                            \n",
      "__________________________________________________________________________________________________\n",
      "ctc (Lambda)                    (None, 1)            0           softmax[0][0]                    \n",
      "                                                                 the_labels[0][0]                 \n",
      "                                                                 input_length[0][0]               \n",
      "                                                                 label_length[0][0]               \n",
      "==================================================================================================\n",
      "Total params: 4,899,632\n",
      "Trainable params: 4,899,632\n",
      "Non-trainable params: 0\n",
      "__________________________________________________________________________________________________\n",
      "Epoch 1/5\n",
      "1000/1000 [==============================] - 637s 637ms/step - loss: 13.9340 - val_loss: 2.3004\n",
      "\n",
      "Epoch 00001: val_loss improved from inf to 2.30036, saving model to ocr_best_weights.hdf5\n",
      "Epoch 2/5\n",
      "1000/1000 [==============================] - 616s 616ms/step - loss: 1.2483 - val_loss: 1.5777\n",
      "\n",
      "Epoch 00002: val_loss improved from 2.30036 to 1.57771, saving model to ocr_best_weights.hdf5\n",
      "Epoch 3/5\n",
      "1000/1000 [==============================] - 617s 617ms/step - loss: 0.5487 - val_loss: 0.0625\n",
      "\n",
      "Epoch 00003: val_loss improved from 1.57771 to 0.06246, saving model to ocr_best_weights.hdf5\n",
      "Epoch 4/5\n",
      "1000/1000 [==============================] - 620s 620ms/step - loss: 0.3712 - val_loss: 0.4699\n",
      "\n",
      "Epoch 00004: val_loss did not improve\n",
      "Epoch 5/5\n",
      "1000/1000 [==============================] - 615s 615ms/step - loss: 0.2377 - val_loss: 0.3516\n",
      "\n",
      "Epoch 00005: val_loss did not improve\n"
     ]
    }
   ],
   "source": [
    "trainFolder='../../../../dataset/'\n",
    "valFolder = '../resources/val'\n",
    "m = train(trainFolder,batchSize=8,epochs= 5,absolute_max_string_len=7,downsample_factor=4,valData=valFolder)"
   ]
  },
  {
   "cell_type": "code",
   "execution_count": null,
   "metadata": {},
   "outputs": [],
   "source": []
  }
 ],
 "metadata": {
  "accelerator": "TPU",
  "colab": {
   "collapsed_sections": [],
   "name": "OCR_GOPAL.ipynb",
   "provenance": [],
   "version": "0.3.2"
  },
  "kernelspec": {
   "display_name": "Python 3",
   "language": "python",
   "name": "python3"
  },
  "language_info": {
   "codemirror_mode": {
    "name": "ipython",
    "version": 3
   },
   "file_extension": ".py",
   "mimetype": "text/x-python",
   "name": "python",
   "nbconvert_exporter": "python",
   "pygments_lexer": "ipython3",
   "version": "3.7.6"
  }
 },
 "nbformat": 4,
 "nbformat_minor": 4
}
